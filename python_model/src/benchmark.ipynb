{
 "cells": [
  {
   "cell_type": "markdown",
   "metadata": {},
   "source": [
    "## Imports"
   ]
  },
  {
   "cell_type": "code",
   "execution_count": 1,
   "metadata": {},
   "outputs": [
    {
     "name": "stderr",
     "output_type": "stream",
     "text": [
      "2024-10-28 17:04:09.864706: I tensorflow/core/util/util.cc:169] oneDNN custom operations are on. You may see slightly different numerical results due to floating-point round-off errors from different computation orders. To turn them off, set the environment variable `TF_ENABLE_ONEDNN_OPTS=0`.\n",
      "2024-10-28 17:04:09.868539: W tensorflow/stream_executor/platform/default/dso_loader.cc:64] Could not load dynamic library 'libcudart.so.11.0'; dlerror: libcudart.so.11.0: cannot open shared object file: No such file or directory\n",
      "2024-10-28 17:04:09.868553: I tensorflow/stream_executor/cuda/cudart_stub.cc:29] Ignore above cudart dlerror if you do not have a GPU set up on your machine.\n"
     ]
    }
   ],
   "source": [
    "import pandas as pd\n",
    "import numpy as np\n",
    "import tensorflow as tf\n",
    "import keras\n",
    "import time\n",
    "import os\n",
    "\n",
    "import seaborn as sns\n",
    "import matplotlib.pyplot as plt\n",
    "\n",
    "from sklearn.metrics import mean_squared_error, mean_squared_error, mean_absolute_error, r2_score, median_absolute_error, mean_absolute_percentage_error"
   ]
  },
  {
   "cell_type": "markdown",
   "metadata": {},
   "source": [
    "## Caminhos utilizados no fluxo"
   ]
  },
  {
   "cell_type": "code",
   "execution_count": 2,
   "metadata": {},
   "outputs": [],
   "source": [
    "input_path = '/home/murilo/workspace/tcc/tcc/python_model/database/x_test.csv'\n",
    "output_path = '/home/murilo/workspace/tcc/tcc/python_model/database/y_test.csv'\n",
    "modelos_micro_folder = '/home/murilo/workspace/tcc/tcc/python_model/src/modelos_micro/'\n",
    "\n",
    "model_paths = {\n",
    "    'Inteiro completo': modelos_micro_folder + 'model_full_integer_quantized.tflite',\n",
    "    'Apenas pesos': modelos_micro_folder + 'model_weights_only_quantized.tflite',\n",
    "    'Faixa dinâmica': modelos_micro_folder + 'model_dynamic_range_quantized.tflite',\n",
    "    'Float 16' : modelos_micro_folder + 'model_float16_quantized.tflite',\n",
    "    'Float32': modelos_micro_folder + 'model_float32.tflite',\n",
    "    'Keras' : 'mlp_model.h5',\n",
    "}"
   ]
  },
  {
   "cell_type": "code",
   "execution_count": 3,
   "metadata": {},
   "outputs": [
    {
     "name": "stderr",
     "output_type": "stream",
     "text": [
      "2024-10-28 17:04:12.145147: W tensorflow/stream_executor/platform/default/dso_loader.cc:64] Could not load dynamic library 'libcuda.so.1'; dlerror: libcuda.so.1: cannot open shared object file: No such file or directory\n",
      "2024-10-28 17:04:12.145179: W tensorflow/stream_executor/cuda/cuda_driver.cc:269] failed call to cuInit: UNKNOWN ERROR (303)\n",
      "2024-10-28 17:04:12.145191: I tensorflow/stream_executor/cuda/cuda_diagnostics.cc:156] kernel driver does not appear to be running on this host (murilo): /proc/driver/nvidia/version does not exist\n",
      "2024-10-28 17:04:12.145430: I tensorflow/core/platform/cpu_feature_guard.cc:193] This TensorFlow binary is optimized with oneAPI Deep Neural Network Library (oneDNN) to use the following CPU instructions in performance-critical operations:  AVX2 AVX512F AVX512_VNNI FMA\n",
      "To enable them in other operations, rebuild TensorFlow with the appropriate compiler flags.\n"
     ]
    },
    {
     "data": {
      "image/png": "[encoded data removed]",
      "text/plain": [
       "<IPython.core.display.Image object>"
      ]
     },
     "execution_count": 3,
     "metadata": {},
     "output_type": "execute_result"
    }
   ],
   "source": [
    "model_py = tf.keras.models.load_model(f\"mlp_model.h5\")\n",
    "\n",
    "keras.utils.plot_model(\n",
    "    model_py,\n",
    "    \"/home/murilo/workspace/tcc/tcc/python_model/images/mlp_model.png\",\n",
    "    show_shapes=True,\n",
    "    show_layer_names=True,\n",
    "    dpi=150,\n",
    "    show_layer_activations=True,\n",
    "    rankdir=\"LR\"\n",
    ")"
   ]
  },
  {
   "cell_type": "markdown",
   "metadata": {},
   "source": [
    "## Base de dados para teste"
   ]
  },
  {
   "cell_type": "code",
   "execution_count": 4,
   "metadata": {},
   "outputs": [],
   "source": [
    "def desnormalize(value, mean, scale):\n",
    "    value = value * scale + mean                        \n",
    "    return np.expm1(value)\n",
    "\n",
    "mean_sodio, scale_sodio = 2.0841135541357527, 0.54462804093762\n",
    "mean_potassio, scale_potassio = 1.5888672049282762, 0.47844564993241423\n",
    "mean_cloro, scale_cloro = 2.7378255142446153, 0.504330768563497"
   ]
  },
  {
   "cell_type": "code",
   "execution_count": 5,
   "metadata": {},
   "outputs": [],
   "source": [
    "x_test = pd.read_csv(input_path).to_numpy()\n",
    "y_test = pd.read_csv(output_path).to_numpy()"
   ]
  },
  {
   "cell_type": "markdown",
   "metadata": {},
   "source": [
    "## Volumentria dos arquivos"
   ]
  },
  {
   "cell_type": "code",
   "execution_count": 6,
   "metadata": {},
   "outputs": [
    {
     "data": {
      "text/plain": [
       "{'Keras': 27136,\n",
       " 'Float 16': 2372,\n",
       " 'Inteiro completo': 1912,\n",
       " 'Apenas pesos': 1716,\n",
       " 'Faixa dinâmica': 1716,\n",
       " 'Float32': 1712}"
      ]
     },
     "execution_count": 6,
     "metadata": {},
     "output_type": "execute_result"
    }
   ],
   "source": [
    "model_sizes = {name: os.path.getsize(path) for name, path in model_paths.items()}\n",
    "model_sizes = dict(sorted(model_sizes.items(), key=lambda item: item[1], reverse=True))\n",
    "model_sizes"
   ]
  },
  {
   "cell_type": "code",
   "execution_count": 7,
   "metadata": {},
   "outputs": [
    {
     "name": "stderr",
     "output_type": "stream",
     "text": [
      "/tmp/ipykernel_388604/2455330540.py:7: FutureWarning: \n",
      "\n",
      "Passing `palette` without assigning `hue` is deprecated and will be removed in v0.14.0. Assign the `x` variable to `hue` and set `legend=False` for the same effect.\n",
      "\n",
      "  bars = sns.barplot(x='Model', y='Size (KB)', data=data, ax=ax1, palette=palette, edgecolor='black')\n"
     ]
    }
   ],
   "source": [
    "data = pd.DataFrame(list(model_sizes.items()), columns=['Model', 'Size (Bytes)'])\n",
    "data['Size (KB)'] = data['Size (Bytes)'] / 1024\n",
    "data['Reduction (%)'] = 100 - (data['Size (KB)'] / data['Size (KB)'].iloc[0] * 100)\n",
    "\n",
    "fig, ax1 = plt.subplots(figsize=(14, 8))\n",
    "palette = sns.color_palette(\"viridis\", len(data))\n",
    "bars = sns.barplot(x='Model', y='Size (KB)', data=data, ax=ax1, palette=palette, edgecolor='black')\n",
    "\n",
    "ax1.set_xlabel('Modelos', fontsize=23, color='black')\n",
    "ax1.set_ylabel('Tamanho em kB', fontsize=23, color='black')\n",
    "ax1.tick_params(axis='y', labelsize=13, labelcolor='black')\n",
    "ax1.tick_params(axis='x', labelsize=13, labelcolor='black')\n",
    "ax1.set_title('Comparação entre Modelos e Redução de Tamanho', fontsize=23, color='black')\n",
    "\n",
    "\n",
    "ax1.set_ylim(0, data['Size (KB)'].max() * 1.2) \n",
    "\n",
    "for index, value in enumerate(data['Size (KB)']):\n",
    "    ax1.text(index, value + 2, f\"{value:.2f} KB\", ha='center', va='bottom', color='black', fontsize=13)\n",
    "\n",
    "ax2 = ax1.twinx()\n",
    "ax2.plot(data['Model'], data['Reduction (%)'], color='#ff7f0e', marker='o', linewidth=2)\n",
    "ax2.fill_between(data['Model'], data['Reduction (%)'], color='#ffbb78', alpha=0.3)\n",
    "\n",
    "ax2.set_ylabel('Redução (%)', fontsize=23, color='black')\n",
    "ax2.tick_params(axis='y', labelsize=13, labelcolor='black')\n",
    "\n",
    "ax2.set_ylim(0, max(data['Reduction (%)']) * 1.2)\n",
    "\n",
    "for index, value in enumerate(data['Reduction (%)']):\n",
    "    ax2.text(index, value + 2, f\"{value:.2f}%\", ha='center', va='bottom', color='#ff7f0e', fontsize=13)\n",
    "\n",
    "ax1.grid(True, which='both', linestyle='--', linewidth=0.5, color='gray')\n",
    "\n",
    "fig.tight_layout()\n",
    "plt.savefig(\"/home/murilo/workspace/tcc/tcc/python_model/images/comparativo_volume.png\")\n",
    "plt.close()"
   ]
  },
  {
   "cell_type": "markdown",
   "metadata": {},
   "source": [
    "## Carregando os modelos"
   ]
  },
  {
   "cell_type": "markdown",
   "metadata": {},
   "source": [
    "### Modelos TFlite"
   ]
  },
  {
   "cell_type": "code",
   "execution_count": 8,
   "metadata": {},
   "outputs": [
    {
     "name": "stderr",
     "output_type": "stream",
     "text": [
      "INFO: Created TensorFlow Lite XNNPACK delegate for CPU.\n"
     ]
    }
   ],
   "source": [
    "models = {\n",
    "    'Inteiro completo': modelos_micro_folder + 'model_full_integer_quantized.tflite',\n",
    "    'Apenas pesos': modelos_micro_folder + 'model_weights_only_quantized.tflite',\n",
    "    'Faixa dinâmica': modelos_micro_folder + 'model_dynamic_range_quantized.tflite',\n",
    "    'Float 16' : modelos_micro_folder + 'model_float16_quantized.tflite',\n",
    "    'Float 32': modelos_micro_folder + 'model_float32.tflite',\n",
    "}\n",
    "\n",
    "interpreters = {}\n",
    "for key, path in models.items():\n",
    "    interpreter = tf.lite.Interpreter(model_path=path)\n",
    "    interpreter.allocate_tensors()\n",
    "    interpreters[key] = interpreter"
   ]
  },
  {
   "cell_type": "markdown",
   "metadata": {},
   "source": [
    "### Modelo Keras"
   ]
  },
  {
   "cell_type": "code",
   "execution_count": 9,
   "metadata": {},
   "outputs": [],
   "source": [
    "interpreters['Keras'] = tf.keras.models.load_model(\"mlp_model.h5\")"
   ]
  },
  {
   "cell_type": "code",
   "execution_count": 10,
   "metadata": {},
   "outputs": [
    {
     "data": {
      "text/plain": [
       "{'Inteiro completo': <tensorflow.lite.python.interpreter.Interpreter at 0x7e9e06ba7c10>,\n",
       " 'Apenas pesos': <tensorflow.lite.python.interpreter.Interpreter at 0x7e9e075b41f0>,\n",
       " 'Faixa dinâmica': <tensorflow.lite.python.interpreter.Interpreter at 0x7e9e075b7c40>,\n",
       " 'Float 16': <tensorflow.lite.python.interpreter.Interpreter at 0x7e9e075b7bb0>,\n",
       " 'Float 32': <tensorflow.lite.python.interpreter.Interpreter at 0x7e9e075b7b20>,\n",
       " 'Keras': <keras.engine.functional.Functional at 0x7e9e0758b850>}"
      ]
     },
     "execution_count": 10,
     "metadata": {},
     "output_type": "execute_result"
    }
   ],
   "source": [
    "interpreters"
   ]
  },
  {
   "cell_type": "markdown",
   "metadata": {},
   "source": [
    "## Tempo de execução"
   ]
  },
  {
   "cell_type": "code",
   "execution_count": 11,
   "metadata": {},
   "outputs": [
    {
     "name": "stdout",
     "output_type": "stream",
     "text": [
      "2/2 [==============================] - 0s 2ms/step\n",
      "2/2 [==============================] - 0s 6ms/step\n",
      "2/2 [==============================] - 0s 2ms/step\n",
      "2/2 [==============================] - 0s 2ms/step\n",
      "2/2 [==============================] - 0s 2ms/step\n",
      "2/2 [==============================] - 0s 2ms/step\n",
      "2/2 [==============================] - 0s 10ms/step\n",
      "2/2 [==============================] - 0s 3ms/step\n",
      "2/2 [==============================] - 0s 8ms/step\n",
      "2/2 [==============================] - 0s 3ms/step\n",
      "2/2 [==============================] - 0s 2ms/step\n",
      "2/2 [==============================] - 0s 2ms/step\n",
      "2/2 [==============================] - 0s 3ms/step\n",
      "2/2 [==============================] - 0s 1ms/step\n",
      "2/2 [==============================] - 0s 3ms/step\n",
      "2/2 [==============================] - 0s 2ms/step\n",
      "2/2 [==============================] - 0s 2ms/step\n",
      "2/2 [==============================] - 0s 3ms/step\n",
      "2/2 [==============================] - 0s 2ms/step\n",
      "2/2 [==============================] - 0s 2ms/step\n",
      "2/2 [==============================] - 0s 2ms/step\n",
      "2/2 [==============================] - 0s 3ms/step\n",
      "2/2 [==============================] - 0s 2ms/step\n",
      "2/2 [==============================] - 0s 2ms/step\n",
      "2/2 [==============================] - 0s 2ms/step\n",
      "2/2 [==============================] - 0s 2ms/step\n",
      "2/2 [==============================] - 0s 2ms/step\n",
      "2/2 [==============================] - 0s 2ms/step\n",
      "2/2 [==============================] - 0s 2ms/step\n",
      "2/2 [==============================] - 0s 3ms/step\n",
      "2/2 [==============================] - 0s 2ms/step\n",
      "2/2 [==============================] - 0s 2ms/step\n",
      "2/2 [==============================] - 0s 4ms/step\n",
      "2/2 [==============================] - 0s 2ms/step\n",
      "2/2 [==============================] - 0s 2ms/step\n",
      "2/2 [==============================] - 0s 7ms/step\n",
      "2/2 [==============================] - 0s 2ms/step\n",
      "2/2 [==============================] - 0s 2ms/step\n",
      "2/2 [==============================] - 0s 7ms/step\n",
      "2/2 [==============================] - 0s 2ms/step\n",
      "2/2 [==============================] - 0s 2ms/step\n",
      "2/2 [==============================] - 0s 7ms/step\n",
      "2/2 [==============================] - 0s 2ms/step\n",
      "2/2 [==============================] - 0s 7ms/step\n",
      "2/2 [==============================] - 0s 2ms/step\n",
      "2/2 [==============================] - 0s 3ms/step\n",
      "2/2 [==============================] - 0s 3ms/step\n",
      "2/2 [==============================] - 0s 7ms/step\n",
      "2/2 [==============================] - 0s 3ms/step\n",
      "2/2 [==============================] - 0s 2ms/step\n",
      "2/2 [==============================] - 0s 5ms/step\n",
      "2/2 [==============================] - 0s 2ms/step\n",
      "2/2 [==============================] - 0s 2ms/step\n",
      "2/2 [==============================] - 0s 2ms/step\n",
      "2/2 [==============================] - 0s 2ms/step\n",
      "2/2 [==============================] - 0s 2ms/step\n",
      "2/2 [==============================] - 0s 2ms/step\n",
      "2/2 [==============================] - 0s 2ms/step\n",
      "2/2 [==============================] - 0s 2ms/step\n",
      "2/2 [==============================] - 0s 2ms/step\n",
      "2/2 [==============================] - 0s 2ms/step\n",
      "2/2 [==============================] - 0s 7ms/step\n",
      "2/2 [==============================] - 0s 1ms/step\n",
      "2/2 [==============================] - 0s 1ms/step\n",
      "2/2 [==============================] - 0s 2ms/step\n",
      "2/2 [==============================] - 0s 2ms/step\n",
      "2/2 [==============================] - 0s 3ms/step\n",
      "2/2 [==============================] - 0s 2ms/step\n",
      "2/2 [==============================] - 0s 6ms/step\n",
      "2/2 [==============================] - 0s 2ms/step\n",
      "2/2 [==============================] - 0s 2ms/step\n",
      "2/2 [==============================] - 0s 5ms/step\n",
      "2/2 [==============================] - 0s 2ms/step\n",
      "2/2 [==============================] - 0s 4ms/step\n",
      "2/2 [==============================] - 0s 2ms/step\n",
      "2/2 [==============================] - 0s 2ms/step\n",
      "2/2 [==============================] - 0s 3ms/step\n",
      "2/2 [==============================] - 0s 2ms/step\n",
      "2/2 [==============================] - 0s 1ms/step\n",
      "2/2 [==============================] - 0s 6ms/step\n",
      "2/2 [==============================] - 0s 2ms/step\n",
      "2/2 [==============================] - 0s 2ms/step\n",
      "2/2 [==============================] - 0s 2ms/step\n",
      "2/2 [==============================] - 0s 2ms/step\n",
      "2/2 [==============================] - 0s 2ms/step\n",
      "2/2 [==============================] - 0s 2ms/step\n",
      "2/2 [==============================] - 0s 5ms/step\n",
      "2/2 [==============================] - 0s 2ms/step\n",
      "2/2 [==============================] - 0s 4ms/step\n",
      "2/2 [==============================] - 0s 3ms/step\n",
      "2/2 [==============================] - 0s 8ms/step\n",
      "2/2 [==============================] - 0s 2ms/step\n",
      "2/2 [==============================] - 0s 1ms/step\n",
      "2/2 [==============================] - 0s 6ms/step\n",
      "2/2 [==============================] - 0s 2ms/step\n",
      "2/2 [==============================] - 0s 3ms/step\n",
      "2/2 [==============================] - 0s 2ms/step\n",
      "2/2 [==============================] - 0s 2ms/step\n",
      "2/2 [==============================] - 0s 4ms/step\n",
      "2/2 [==============================] - 0s 2ms/step\n"
     ]
    }
   ],
   "source": [
    "def predict_tflite(model, test_data):\n",
    "    input_details = model.get_input_details()\n",
    "    output_details = model.get_output_details()\n",
    "    predictions = []\n",
    "\n",
    "    input_type = input_details[0]['dtype']\n",
    "\n",
    "    for example in test_data:\n",
    "        test_example = np.expand_dims(example, axis=0).astype(input_type)\n",
    "        model.set_tensor(input_details[0]['index'], test_example)\n",
    "        model.invoke()\n",
    "        output_data = model.get_tensor(output_details[0]['index'])\n",
    "        predictions.append(output_data)\n",
    "        \n",
    "    return np.array(predictions)\n",
    "\n",
    "inference_times = {name: [] for name in interpreters}\n",
    "inferences = {name: [] for name in interpreters}\n",
    "\n",
    "for name, model in interpreters.items():\n",
    "    for _ in range(100):\n",
    "        start_time = time.time()\n",
    "        if name != 'Keras':\n",
    "            predictions = predict_tflite(model, x_test)\n",
    "        else:\n",
    "            predictions = model.predict(x_test)\n",
    "        end_time = time.time()\n",
    "        inference_times[name].append(end_time - start_time)"
   ]
  },
  {
   "cell_type": "code",
   "execution_count": 12,
   "metadata": {},
   "outputs": [
    {
     "name": "stdout",
     "output_type": "stream",
     "text": [
      "Tempos de inferência salvos em /home/murilo/workspace/tcc/tcc/python_model/results/inference_times_results.txt\n"
     ]
    }
   ],
   "source": [
    "results_file = \"/home/murilo/workspace/tcc/tcc/python_model/results/inference_times_results.txt\"\n",
    "\n",
    "with open(results_file, 'w') as f:\n",
    "    for name, times in inference_times.items():\n",
    "        f.write(f\"{name}:\\n\")\n",
    "        f.write(f\"  Média do Tempo de Inferência: {np.mean(times):.4f} segundos\\n\")\n",
    "        f.write(f\"  Mediana do Tempo de Inferência: {np.median(times):.4f} segundos\\n\")\n",
    "        f.write(f\"  Desvio Padrão: {np.std(times):.4f} segundos\\n\")\n",
    "        f.write(f\"  Máximo: {np.max(times):.4f} segundos\\n\")\n",
    "        f.write(f\"  Mínimo: {np.min(times):.4f} segundos\\n\")\n",
    "        f.write(\"\\n\")\n",
    "print(f\"Tempos de inferência salvos em {results_file}\")"
   ]
  },
  {
   "cell_type": "markdown",
   "metadata": {},
   "source": [
    "## Métricas de erro"
   ]
  },
  {
   "cell_type": "code",
   "execution_count": 13,
   "metadata": {},
   "outputs": [
    {
     "name": "stdout",
     "output_type": "stream",
     "text": [
      "2/2 [==============================] - 0s 2ms/step\n"
     ]
    }
   ],
   "source": [
    "def predict_tflite(model, test_data):\n",
    "    input_details = model.get_input_details()\n",
    "    output_details = model.get_output_details()\n",
    "    predictions = []\n",
    "\n",
    "    input_type = input_details[0]['dtype']\n",
    "    \n",
    "    for example in test_data:\n",
    "        test_example = np.expand_dims(example, axis=0).astype(input_type)\n",
    "        model.set_tensor(input_details[0]['index'], test_example)\n",
    "        model.invoke()\n",
    "        output_data = model.get_tensor(output_details[0]['index'])\n",
    "        predictions.append(output_data[0][0])\n",
    "    return np.array(predictions)\n",
    "\n",
    "predictions_dict = {}\n",
    "for name, model in interpreters.items():\n",
    "    if name != 'Keras':\n",
    "        predictions_dict[name] = predict_tflite(model, x_test)\n",
    "    else:\n",
    "        predictions_dict[name] = model.predict(x_test).flatten()"
   ]
  },
  {
   "cell_type": "code",
   "execution_count": 14,
   "metadata": {},
   "outputs": [],
   "source": [
    "metrics_dict = {}\n",
    "\n",
    "for name, predictions in predictions_dict.items():\n",
    "    start_time = time.time()\n",
    "    \n",
    "    y_test_denorm = desnormalize(y_test, mean_cloro, scale_cloro)\n",
    "    predictions_denorm = desnormalize(predictions, mean_cloro, scale_cloro)\n",
    "    \n",
    "    mse = mean_squared_error(y_test_denorm, predictions_denorm)\n",
    "    rmse = np.sqrt(mse)\n",
    "    mae = mean_absolute_error(y_test_denorm, predictions_denorm)\n",
    "    r2 = r2_score(y_test_denorm, predictions_denorm)\n",
    "    medae = median_absolute_error(y_test_denorm, predictions_denorm)\n",
    "    mape = mean_absolute_percentage_error(y_test_denorm, predictions_denorm)\n",
    "    \n",
    "    end_time = time.time()\n",
    "    exec_time = end_time - start_time\n",
    "\n",
    "    metrics_dict[name] = {\n",
    "        'MSE': mse,\n",
    "        'RMSE': rmse, \n",
    "        'MAE': mae,\n",
    "        'R2': r2,\n",
    "        'MEDAE': medae,\n",
    "        'MAPE': mape,\n",
    "        'Execution Time (s)': exec_time\n",
    "    }\n",
    "\n",
    "\n",
    "with open('/home/murilo/workspace/tcc/tcc/python_model/results/metrics_results.txt', 'w') as f:\n",
    "    for name, metrics in metrics_dict.items():\n",
    "        f.write(f\"Resultados para o modelo {name}:\\n\")\n",
    "        for metric, value in metrics.items():\n",
    "            f.write(f\"  {metric}: {value:.5f}\\n\")\n",
    "        f.write(\"\\n\")"
   ]
  },
  {
   "cell_type": "markdown",
   "metadata": {},
   "source": [
    "## Previsões dos modelos quantizados"
   ]
  },
  {
   "cell_type": "code",
   "execution_count": 23,
   "metadata": {},
   "outputs": [],
   "source": [
    "save_dir = \"/home/murilo/workspace/tcc/tcc/python_model/images/\"\n",
    "\n",
    "y_test_denorm = desnormalize(y_test, mean_cloro, scale_cloro)\n",
    "\n",
    "predictions_denorm = desnormalize(predictions_dict['Keras'], mean_cloro, scale_cloro)\n",
    "plt.figure(figsize=(7, 7))\n",
    "plt.scatter(y_test_denorm, predictions_denorm, color='blue', alpha=0.5, label='Previsões Keras')\n",
    "plt.plot([min(y_test_denorm), max(y_test_denorm)], [min(y_test_denorm), max(y_test_denorm)], 'k--', label='Linha Ideal')\n",
    "plt.xlabel('Valores Reais', fontsize=18)\n",
    "plt.ylabel('Valores Preditos', fontsize=18)\n",
    "plt.grid()\n",
    "plt.legend()\n",
    "plt.xticks(fontsize=12)\n",
    "plt.yticks(fontsize=12)\n",
    "plt.savefig(os.path.join(save_dir, \"keras_predictions.png\"), bbox_inches='tight')\n",
    "plt.close()\n",
    "\n",
    "model_names = [name for name in predictions_dict if name != 'Keras']\n",
    "\n",
    "for name in model_names:\n",
    "    predictions_denorm = desnormalize(predictions_dict[name], mean_cloro, scale_cloro)\n",
    "    plt.figure(figsize=(7, 7))\n",
    "    plt.scatter(y_test_denorm, predictions_denorm, color='red', alpha=0.5, label=f'Previsões {name}')\n",
    "    plt.plot([min(y_test_denorm), max(y_test_denorm)], [min(y_test_denorm), max(y_test_denorm)], 'k--', label='Linha Ideal')\n",
    "    plt.xlabel('Valores Reais', fontsize=18)\n",
    "    plt.ylabel('Valores Preditos', fontsize=18)\n",
    "    plt.grid()\n",
    "    plt.legend()\n",
    "    plt.xticks(fontsize=12)\n",
    "    plt.yticks(fontsize=12)\n",
    "    plt.savefig(os.path.join(save_dir, f\"{name}_predictions.png\"), bbox_inches='tight')\n",
    "    plt.close()"
   ]
  },
  {
   "cell_type": "markdown",
   "metadata": {},
   "source": [
    "## RESULTADOS NO MICRO CONTROLADOR"
   ]
  },
  {
   "cell_type": "code",
   "execution_count": 16,
   "metadata": {},
   "outputs": [],
   "source": [
    "# valores_saida = pd.read_csv('/home/murilo/workspace/tcc/tcc/utils/valores_saida.csv')\n",
    "# saida = pd.read_csv('/home/murilo/workspace/tcc/tcc/python_model/database/saida.csv')\n",
    "\n",
    "# predicted_cl = valores_saida['Cl']\n",
    "# real_cl = saida['Cl']\n",
    "\n",
    "# # Atualizando o gráfico com as alterações solicitadas\n",
    "# plt.figure(figsize=(7, 7))  # Mantendo o tamanho do gráfico em 7x7\n",
    "# plt.scatter(real_cl, predicted_cl, color='green', alpha=0.5, label='Previsões ESP32', marker='o')\n",
    "# plt.plot([real_cl.min(), real_cl.max()], [real_cl.min(), real_cl.max()], 'k--', label='Linha Ideal')\n",
    "# plt.title('Modelo ESP32')\n",
    "# plt.xlabel('Valores Reais')\n",
    "# plt.ylabel('Valores Preditos')\n",
    "# plt.grid(True)  # Ativação da grade no gráfico\n",
    "# plt.legend()\n",
    "# plt.show()"
   ]
  },
  {
   "cell_type": "code",
   "execution_count": 17,
   "metadata": {},
   "outputs": [],
   "source": [
    "# consumo_df = pd.read_csv('/home/murilo/workspace/tcc/tcc/utils/consumo.csv')\n",
    "# consumo_df_filtered = consumo_df.iloc[87951:].reset_index(drop=True)\n",
    "\n",
    "# consumo_df_filtered['Corrente(A)'] = consumo_df_filtered['Current(uA)'] / 1000000\n",
    "# consumption_stats_filtered = consumo_df_filtered['Corrente(A)'].agg(['min', 'max', 'mean'])\n",
    "\n",
    "# consumo_df_filtered['Adjusted Time(s)'] = (consumo_df_filtered['Timestamp(ms)'] - 879.51) / 1000\n",
    "\n",
    "# plt.figure(figsize=(14, 7))\n",
    "# plt.plot(consumo_df_filtered['Adjusted Time(s)'], consumo_df_filtered['Corrente(A)'], label='Corrente (A)')\n",
    "# plt.title('Consumo de Corrente ao Longo do Tempo')\n",
    "# plt.xlabel('Tempo (s)')\n",
    "# plt.ylabel('Corrente (A)')\n",
    "# plt.legend()\n",
    "# plt.grid(True)\n",
    "# plt.show()"
   ]
  },
  {
   "cell_type": "markdown",
   "metadata": {},
   "source": [
    "## Detalhe do modelo Float 32"
   ]
  },
  {
   "cell_type": "code",
   "execution_count": 20,
   "metadata": {},
   "outputs": [
    {
     "name": "stdout",
     "output_type": "stream",
     "text": [
      "Detalhes do Tensor de Entrada: [{'name': 'serving_default_Input_Layer:0', 'index': 0, 'shape': array([1, 2], dtype=int32), 'shape_signature': array([-1,  2], dtype=int32), 'dtype': <class 'numpy.float32'>, 'quantization': (0.0, 0), 'quantization_parameters': {'scales': array([], dtype=float32), 'zero_points': array([], dtype=int32), 'quantized_dimension': 0}, 'sparsity_parameters': {}}]\n",
      "Detalhes do Tensor de Saída: [{'name': 'StatefulPartitionedCall:0', 'index': 6, 'shape': array([1, 1], dtype=int32), 'shape_signature': array([-1,  1], dtype=int32), 'dtype': <class 'numpy.float32'>, 'quantization': (0.0, 0), 'quantization_parameters': {'scales': array([], dtype=float32), 'zero_points': array([], dtype=int32), 'quantized_dimension': 0}, 'sparsity_parameters': {}}]\n"
     ]
    }
   ],
   "source": [
    "model = interpreters['Float 32']\n",
    "\n",
    "input_details = model.get_input_details()\n",
    "print(\"Detalhes do Tensor de Entrada:\", input_details)\n",
    "\n",
    "output_details = model.get_output_details()\n",
    "print(\"Detalhes do Tensor de Saída:\", output_details)"
   ]
  },
  {
   "cell_type": "markdown",
   "metadata": {},
   "source": [
    "## Criação do array de bytes para o Embarque na ESP32"
   ]
  },
  {
   "cell_type": "code",
   "execution_count": 21,
   "metadata": {},
   "outputs": [],
   "source": [
    "tflite_model_file = '/home/murilo/workspace/tcc/tcc/python_model/src/modelos_micro/model_float32.tflite'\n",
    "\n",
    "# Conteúdo do arquivo model.h\n",
    "header_content = \"\"\"\n",
    "#ifndef MODEL_H_\n",
    "#define MODEL_H_\n",
    "\n",
    "extern const unsigned char model[];\n",
    "extern const int model_len;\n",
    "\n",
    "#endif  // MODEL_H_\n",
    "\"\"\"\n",
    "\n",
    "# Escreve o conteúdo no arquivo model.h\n",
    "with open(\"model.h\", \"w\") as file:\n",
    "    file.write(header_content.strip())\n",
    "\n",
    "with open(tflite_model_file, 'rb') as f:\n",
    "    tflite_model_content = f.read()\n",
    "\n",
    "with open(\"model.cc\", \"w\") as f:\n",
    "    f.write(\"const unsigned char model[] = {\\n    \")\n",
    "    for i, byte in enumerate(tflite_model_content):\n",
    "        f.write(f\"0x{byte:02x}, \")\n",
    "        if (i + 1) % 12 == 0:\n",
    "            f.write(\"\\n    \")\n",
    "    f.write(\"\\n};\\n\")\n",
    "    f.write(f\"const int model_len = {len(tflite_model_content)};\")"
   ]
  }
 ],
 "metadata": {
  "kernelspec": {
   "display_name": ".env",
   "language": "python",
   "name": "python3"
  },
  "language_info": {
   "codemirror_mode": {
    "name": "ipython",
    "version": 3
   },
   "file_extension": ".py",
   "mimetype": "text/x-python",
   "name": "python",
   "nbconvert_exporter": "python",
   "pygments_lexer": "ipython3",
   "version": "3.10.12"
  }
 },
 "nbformat": 4,
 "nbformat_minor": 2
}
