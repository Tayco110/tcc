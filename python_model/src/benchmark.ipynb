{
 "cells": [
  {
   "cell_type": "code",
   "execution_count": 30,
   "metadata": {},
   "outputs": [],
   "source": [
    "import pandas as pd\n",
    "import numpy as np\n",
    "import tensorflow as tf\n",
    "import time"
   ]
  },
  {
   "cell_type": "code",
   "execution_count": 33,
   "metadata": {},
   "outputs": [],
   "source": [
    "input_path = '/home/murilo/workspace/tcc/tcc/python_model/database/x_test.csv'\n",
    "output_path = '/home/murilo/workspace/tcc/tcc/python_model/database/y_test.csv'\n",
    "\n",
    "x_test = pd.read_csv(input_path).values\n",
    "y_test = pd.read_csv(output_path).values.squeeze()"
   ]
  },
  {
   "cell_type": "code",
   "execution_count": 34,
   "metadata": {},
   "outputs": [
    {
     "name": "stdout",
     "output_type": "stream",
     "text": [
      "2/2 [==============================] - 0s 2ms/step\n",
      "Keras - MSE: 0.03406967624370865 MAE: 0.13253899328129368 Tempo de Inferência: 0.05826830863952637\n"
     ]
    }
   ],
   "source": [
    "model_keras = tf.keras.models.load_model('python_model.h5')\n",
    "\n",
    "start_time = time.time()\n",
    "predictions_keras = model_keras.predict(x_test)\n",
    "end_time = time.time()\n",
    "\n",
    "predictions_keras = predictions_keras.squeeze()\n",
    "\n",
    "mse_keras = np.mean((y_test - predictions_keras) ** 2)\n",
    "mae_keras = np.mean(np.abs(y_test - predictions_keras))\n",
    "\n",
    "print(\"Keras - MSE:\", mse_keras, \"MAE:\", mae_keras, \"Tempo de Inferência:\", end_time - start_time)"
   ]
  },
  {
   "cell_type": "code",
   "execution_count": 35,
   "metadata": {},
   "outputs": [],
   "source": [
    "tflite_models = {\n",
    "    \"dynamic_range\": \"model_dynamic_range_quantized.tflite\",\n",
    "    \"float16\": \"model_float16_quantized.tflite\",\n",
    "    \"full_integer\": \"model_full_integer_quantized.tflite\",\n",
    "    \"weights_only\": \"model_weights_only_quantized.tflite\"\n",
    "}\n",
    "\n",
    "interpreters = {}\n",
    "for key, path in tflite_models.items():\n",
    "    interpreter = tf.lite.Interpreter(model_path=path)\n",
    "    interpreter.allocate_tensors()\n",
    "    interpreters[key] = interpreter"
   ]
  },
  {
   "cell_type": "code",
   "execution_count": 36,
   "metadata": {},
   "outputs": [],
   "source": [
    "def evaluate_model(interpreter, x_test, y_test):\n",
    "    input_index = interpreter.get_input_details()[0]['index']\n",
    "    output_index = interpreter.get_output_details()[0]['index']\n",
    "    \n",
    "    # Predições TFLite\n",
    "    predictions = []\n",
    "    start_time = time.time()\n",
    "    for test_sample in x_test:\n",
    "        # Assegurar que os dados estão no formato correto e dimensionados para o modelo\n",
    "        test_sample = np.expand_dims(test_sample, axis=0).astype(np.float32)\n",
    "        interpreter.set_tensor(input_index, test_sample)\n",
    "        interpreter.invoke()\n",
    "        predictions.append(interpreter.get_tensor(output_index)[0][0])\n",
    "    end_time = time.time()\n",
    "    \n",
    "    mse = np.mean((y_test - np.array(predictions)) ** 2)\n",
    "    mae = np.mean(np.abs(y_test - np.array(predictions)))\n",
    "\n",
    "    return mse, mae, end_time - start_time"
   ]
  },
  {
   "cell_type": "code",
   "execution_count": 37,
   "metadata": {},
   "outputs": [
    {
     "name": "stdout",
     "output_type": "stream",
     "text": [
      "dynamic_range - MSE: 0.03421646973055114, MAE: 0.13311932799901197, Tempo de Inferência: 0.001224517822265625\n",
      "float16 - MSE: 0.034069540216803626, MAE: 0.13252876251654702, Tempo de Inferência: 0.0004630088806152344\n"
     ]
    },
    {
     "ename": "ValueError",
     "evalue": "Cannot set tensor: Got value of type FLOAT32 but expected type INT8 for input 0, name: serving_default_dense_3_input:0 ",
     "output_type": "error",
     "traceback": [
      "\u001b[0;31m---------------------------------------------------------------------------\u001b[0m",
      "\u001b[0;31mValueError\u001b[0m                                Traceback (most recent call last)",
      "Cell \u001b[0;32mIn[37], line 3\u001b[0m\n\u001b[1;32m      1\u001b[0m results \u001b[38;5;241m=\u001b[39m {}\n\u001b[1;32m      2\u001b[0m \u001b[38;5;28;01mfor\u001b[39;00m key, interpreter \u001b[38;5;129;01min\u001b[39;00m interpreters\u001b[38;5;241m.\u001b[39mitems():\n\u001b[0;32m----> 3\u001b[0m     mse, mae, inference_time \u001b[38;5;241m=\u001b[39m \u001b[43mevaluate_model\u001b[49m\u001b[43m(\u001b[49m\u001b[43minterpreter\u001b[49m\u001b[43m,\u001b[49m\u001b[43m \u001b[49m\u001b[43mx_test\u001b[49m\u001b[43m,\u001b[49m\u001b[43m \u001b[49m\u001b[43my_test\u001b[49m\u001b[43m)\u001b[49m\n\u001b[1;32m      4\u001b[0m     results[key] \u001b[38;5;241m=\u001b[39m {\n\u001b[1;32m      5\u001b[0m         \u001b[38;5;124m\"\u001b[39m\u001b[38;5;124mMSE\u001b[39m\u001b[38;5;124m\"\u001b[39m: mse,\n\u001b[1;32m      6\u001b[0m         \u001b[38;5;124m\"\u001b[39m\u001b[38;5;124mMAE\u001b[39m\u001b[38;5;124m\"\u001b[39m: mae,\n\u001b[1;32m      7\u001b[0m         \u001b[38;5;124m\"\u001b[39m\u001b[38;5;124mTempo de Inferência\u001b[39m\u001b[38;5;124m\"\u001b[39m: inference_time\n\u001b[1;32m      8\u001b[0m     }\n\u001b[1;32m      9\u001b[0m     \u001b[38;5;28mprint\u001b[39m(\u001b[38;5;124mf\u001b[39m\u001b[38;5;124m\"\u001b[39m\u001b[38;5;132;01m{\u001b[39;00mkey\u001b[38;5;132;01m}\u001b[39;00m\u001b[38;5;124m - MSE: \u001b[39m\u001b[38;5;132;01m{\u001b[39;00mmse\u001b[38;5;132;01m}\u001b[39;00m\u001b[38;5;124m, MAE: \u001b[39m\u001b[38;5;132;01m{\u001b[39;00mmae\u001b[38;5;132;01m}\u001b[39;00m\u001b[38;5;124m, Tempo de Inferência: \u001b[39m\u001b[38;5;132;01m{\u001b[39;00minference_time\u001b[38;5;132;01m}\u001b[39;00m\u001b[38;5;124m\"\u001b[39m)\n",
      "Cell \u001b[0;32mIn[36], line 11\u001b[0m, in \u001b[0;36mevaluate_model\u001b[0;34m(interpreter, x_test, y_test)\u001b[0m\n\u001b[1;32m      8\u001b[0m \u001b[38;5;28;01mfor\u001b[39;00m test_sample \u001b[38;5;129;01min\u001b[39;00m x_test:\n\u001b[1;32m      9\u001b[0m     \u001b[38;5;66;03m# Assegurar que os dados estão no formato correto e dimensionados para o modelo\u001b[39;00m\n\u001b[1;32m     10\u001b[0m     test_sample \u001b[38;5;241m=\u001b[39m np\u001b[38;5;241m.\u001b[39mexpand_dims(test_sample, axis\u001b[38;5;241m=\u001b[39m\u001b[38;5;241m0\u001b[39m)\u001b[38;5;241m.\u001b[39mastype(np\u001b[38;5;241m.\u001b[39mfloat32)\n\u001b[0;32m---> 11\u001b[0m     \u001b[43minterpreter\u001b[49m\u001b[38;5;241;43m.\u001b[39;49m\u001b[43mset_tensor\u001b[49m\u001b[43m(\u001b[49m\u001b[43minput_index\u001b[49m\u001b[43m,\u001b[49m\u001b[43m \u001b[49m\u001b[43mtest_sample\u001b[49m\u001b[43m)\u001b[49m\n\u001b[1;32m     12\u001b[0m     interpreter\u001b[38;5;241m.\u001b[39minvoke()\n\u001b[1;32m     13\u001b[0m     predictions\u001b[38;5;241m.\u001b[39mappend(interpreter\u001b[38;5;241m.\u001b[39mget_tensor(output_index)[\u001b[38;5;241m0\u001b[39m][\u001b[38;5;241m0\u001b[39m])\n",
      "File \u001b[0;32m~/workspace/tcc/tcc/python_model/.env/lib/python3.10/site-packages/tensorflow/lite/python/interpreter.py:697\u001b[0m, in \u001b[0;36mInterpreter.set_tensor\u001b[0;34m(self, tensor_index, value)\u001b[0m\n\u001b[1;32m    681\u001b[0m \u001b[38;5;28;01mdef\u001b[39;00m \u001b[38;5;21mset_tensor\u001b[39m(\u001b[38;5;28mself\u001b[39m, tensor_index, value):\n\u001b[1;32m    682\u001b[0m \u001b[38;5;250m  \u001b[39m\u001b[38;5;124;03m\"\"\"Sets the value of the input tensor.\u001b[39;00m\n\u001b[1;32m    683\u001b[0m \n\u001b[1;32m    684\u001b[0m \u001b[38;5;124;03m  Note this copies data in `value`.\u001b[39;00m\n\u001b[0;32m   (...)\u001b[0m\n\u001b[1;32m    695\u001b[0m \u001b[38;5;124;03m    ValueError: If the interpreter could not set the tensor.\u001b[39;00m\n\u001b[1;32m    696\u001b[0m \u001b[38;5;124;03m  \"\"\"\u001b[39;00m\n\u001b[0;32m--> 697\u001b[0m   \u001b[38;5;28;43mself\u001b[39;49m\u001b[38;5;241;43m.\u001b[39;49m\u001b[43m_interpreter\u001b[49m\u001b[38;5;241;43m.\u001b[39;49m\u001b[43mSetTensor\u001b[49m\u001b[43m(\u001b[49m\u001b[43mtensor_index\u001b[49m\u001b[43m,\u001b[49m\u001b[43m \u001b[49m\u001b[43mvalue\u001b[49m\u001b[43m)\u001b[49m\n",
      "\u001b[0;31mValueError\u001b[0m: Cannot set tensor: Got value of type FLOAT32 but expected type INT8 for input 0, name: serving_default_dense_3_input:0 "
     ]
    }
   ],
   "source": [
    "results = {}\n",
    "for key, interpreter in interpreters.items():\n",
    "    mse, mae, inference_time = evaluate_model(interpreter, x_test, y_test)\n",
    "    results[key] = {\n",
    "        \"MSE\": mse,\n",
    "        \"MAE\": mae,\n",
    "        \"Tempo de Inferência\": inference_time\n",
    "    }\n",
    "    print(f\"{key} - MSE: {mse}, MAE: {mae}, Tempo de Inferência: {inference_time}\")"
   ]
  }
 ],
 "metadata": {
  "kernelspec": {
   "display_name": ".env",
   "language": "python",
   "name": "python3"
  },
  "language_info": {
   "codemirror_mode": {
    "name": "ipython",
    "version": 3
   },
   "file_extension": ".py",
   "mimetype": "text/x-python",
   "name": "python",
   "nbconvert_exporter": "python",
   "pygments_lexer": "ipython3",
   "version": "3.10.12"
  }
 },
 "nbformat": 4,
 "nbformat_minor": 2
}
