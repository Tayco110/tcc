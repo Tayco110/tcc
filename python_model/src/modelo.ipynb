{
 "cells": [
  {
   "cell_type": "code",
   "execution_count": 10,
   "metadata": {},
   "outputs": [],
   "source": [
    "import warnings \n",
    "warnings.filterwarnings('ignore') "
   ]
  },
  {
   "cell_type": "markdown",
   "metadata": {},
   "source": [
    "## 1. Imports:"
   ]
  },
  {
   "cell_type": "markdown",
   "metadata": {},
   "source": [
    "Importaremos o TensorFlow e outras bibliotecas necessárias. Keras é uma API de alto nível para redes neurais que roda em cima do TensorFlow, facilitando a construção de modelos de aprendizado de máquina."
   ]
  },
  {
   "cell_type": "code",
   "execution_count": 61,
   "metadata": {},
   "outputs": [],
   "source": [
    "import pandas as pd\n",
    "\n",
    "from sklearn.model_selection import RandomizedSearchCV\n",
    "from sklearn.metrics import make_scorer, mean_squared_error, mean_squared_error, mean_absolute_error, r2_score\n",
    "import matplotlib.pyplot as plt\n",
    "\n",
    "import tensorflow as tf\n",
    "from tensorflow.keras.models import Sequential\n",
    "from tensorflow.keras.layers import Dense\n",
    "from tensorflow.keras.optimizers import Adam\n",
    "from tensorflow.keras.wrappers.scikit_learn import KerasRegressor"
   ]
  },
  {
   "cell_type": "markdown",
   "metadata": {},
   "source": [
    "## 2. Caminhos utilizados no fluxo"
   ]
  },
  {
   "cell_type": "code",
   "execution_count": 12,
   "metadata": {},
   "outputs": [],
   "source": [
    "path = '/home/murilo/workspace/tcc/tcc/python_model/database'\n",
    "\n",
    "x_train_path = f'{path}/x_train.csv'\n",
    "y_train_path = f'{path}/y_train.csv'\n",
    "x_test_path = f'{path}/x_test.csv'\n",
    "y_test_path = f'{path}/y_test.csv'"
   ]
  },
  {
   "cell_type": "markdown",
   "metadata": {},
   "source": [
    "## 3. Carregando os arquivos"
   ]
  },
  {
   "cell_type": "code",
   "execution_count": 13,
   "metadata": {},
   "outputs": [],
   "source": [
    "x_train = pd.read_csv(x_train_path)\n",
    "y_train = pd.read_csv(y_train_path)\n",
    "x_test = pd.read_csv(x_test_path)\n",
    "y_test = pd.read_csv(y_test_path)"
   ]
  },
  {
   "cell_type": "markdown",
   "metadata": {},
   "source": [
    "## 4. Construindo o modelo"
   ]
  },
  {
   "cell_type": "markdown",
   "metadata": {},
   "source": [
    "Para a rede neural, vamos usar uma arquitetura simples mas eficaz para este tipo de tarefa de regressão:\n",
    "\n",
    " - Camada de Entrada: Correspondente ao número de variáveis de entrada (Na e K).\n",
    " - Camadas Ocultas: Várias camadas ocultas com uma quantidade moderada de neurônios para capturar a complexidade nos dados.\n",
    " - Camada de Saída: Uma única unidade sem função de ativação para uma tarefa de regressão."
   ]
  },
  {
   "cell_type": "code",
   "execution_count": 52,
   "metadata": {},
   "outputs": [],
   "source": [
    "model = Sequential([\n",
    "    Dense(64, input_shape=(x_train.shape[1],), activation='relu'),  # Camada oculta com 64 neurônios\n",
    "    Dense(32, activation='relu'),                                   # Segunda camada oculta com 32 neurônios\n",
    "    Dense(1, activation='linear')                                   # Camada de saída\n",
    "])\n",
    "\n",
    "model.compile(optimizer='adam', loss='mse')"
   ]
  },
  {
   "cell_type": "markdown",
   "metadata": {},
   "source": [
    "- Número de Neurônios: Começamos com mais neurônios nas primeiras camadas e reduzimos nas subsequentes. Essa \"forma de funil\" ajuda na aprendizagem de representações mais abstratas nos primeiros estágios e em refinar as predições nos estágios finais.\n",
    "- Função de Ativação 'ReLU': A função ReLU é comumente usada por ser eficaz em adicionar não-linearidades ao modelo, ajudando a resolver problemas de regressão que não são facilmente solucionáveis com uma abordagem linear.\n",
    "- Camada de Saída: Utilizamos uma função de ativação linear que é comumente utilizada para problemas de regressão"
   ]
  },
  {
   "cell_type": "markdown",
   "metadata": {},
   "source": [
    "### 4.1. treinando o modelo"
   ]
  },
  {
   "cell_type": "code",
   "execution_count": 53,
   "metadata": {},
   "outputs": [
    {
     "name": "stdout",
     "output_type": "stream",
     "text": [
      "Epoch 1/100\n",
      "14/14 [==============================] - 0s 7ms/step - loss: 0.8068 - val_loss: 0.5445\n",
      "Epoch 2/100\n",
      "14/14 [==============================] - 0s 2ms/step - loss: 0.3910 - val_loss: 0.2312\n",
      "Epoch 3/100\n",
      "14/14 [==============================] - 0s 3ms/step - loss: 0.1496 - val_loss: 0.0996\n",
      "Epoch 4/100\n",
      "14/14 [==============================] - 0s 3ms/step - loss: 0.0787 - val_loss: 0.0596\n",
      "Epoch 5/100\n",
      "14/14 [==============================] - 0s 3ms/step - loss: 0.0617 - val_loss: 0.0487\n",
      "Epoch 6/100\n",
      "14/14 [==============================] - 0s 3ms/step - loss: 0.0607 - val_loss: 0.0371\n",
      "Epoch 7/100\n",
      "14/14 [==============================] - 0s 3ms/step - loss: 0.0559 - val_loss: 0.0392\n",
      "Epoch 8/100\n",
      "14/14 [==============================] - 0s 3ms/step - loss: 0.0565 - val_loss: 0.0381\n",
      "Epoch 9/100\n",
      "14/14 [==============================] - 0s 3ms/step - loss: 0.0527 - val_loss: 0.0389\n",
      "Epoch 10/100\n",
      "14/14 [==============================] - 0s 3ms/step - loss: 0.0545 - val_loss: 0.0343\n",
      "Epoch 11/100\n",
      "14/14 [==============================] - 0s 3ms/step - loss: 0.0518 - val_loss: 0.0394\n",
      "Epoch 12/100\n",
      "14/14 [==============================] - 0s 3ms/step - loss: 0.0539 - val_loss: 0.0440\n",
      "Epoch 13/100\n",
      "14/14 [==============================] - 0s 3ms/step - loss: 0.0520 - val_loss: 0.0382\n",
      "Epoch 14/100\n",
      "14/14 [==============================] - 0s 3ms/step - loss: 0.0513 - val_loss: 0.0388\n",
      "Epoch 15/100\n",
      "14/14 [==============================] - 0s 2ms/step - loss: 0.0507 - val_loss: 0.0362\n",
      "Epoch 16/100\n",
      "14/14 [==============================] - 0s 3ms/step - loss: 0.0502 - val_loss: 0.0384\n",
      "Epoch 17/100\n",
      "14/14 [==============================] - 0s 3ms/step - loss: 0.0501 - val_loss: 0.0376\n",
      "Epoch 18/100\n",
      "14/14 [==============================] - 0s 3ms/step - loss: 0.0500 - val_loss: 0.0399\n",
      "Epoch 19/100\n",
      "14/14 [==============================] - 0s 3ms/step - loss: 0.0502 - val_loss: 0.0381\n",
      "Epoch 20/100\n",
      "14/14 [==============================] - 0s 3ms/step - loss: 0.0507 - val_loss: 0.0337\n",
      "Epoch 21/100\n",
      "14/14 [==============================] - 0s 3ms/step - loss: 0.0498 - val_loss: 0.0424\n",
      "Epoch 22/100\n",
      "14/14 [==============================] - 0s 3ms/step - loss: 0.0488 - val_loss: 0.0375\n",
      "Epoch 23/100\n",
      "14/14 [==============================] - 0s 2ms/step - loss: 0.0482 - val_loss: 0.0409\n",
      "Epoch 24/100\n",
      "14/14 [==============================] - 0s 2ms/step - loss: 0.0504 - val_loss: 0.0434\n",
      "Epoch 25/100\n",
      "14/14 [==============================] - 0s 2ms/step - loss: 0.0490 - val_loss: 0.0344\n",
      "Epoch 26/100\n",
      "14/14 [==============================] - 0s 2ms/step - loss: 0.0510 - val_loss: 0.0345\n",
      "Epoch 27/100\n",
      "14/14 [==============================] - 0s 2ms/step - loss: 0.0482 - val_loss: 0.0426\n",
      "Epoch 28/100\n",
      "14/14 [==============================] - 0s 3ms/step - loss: 0.0501 - val_loss: 0.0386\n",
      "Epoch 29/100\n",
      "14/14 [==============================] - 0s 3ms/step - loss: 0.0488 - val_loss: 0.0440\n",
      "Epoch 30/100\n",
      "14/14 [==============================] - 0s 3ms/step - loss: 0.0507 - val_loss: 0.0385\n",
      "Epoch 31/100\n",
      "14/14 [==============================] - 0s 3ms/step - loss: 0.0483 - val_loss: 0.0399\n",
      "Epoch 32/100\n",
      "14/14 [==============================] - 0s 3ms/step - loss: 0.0479 - val_loss: 0.0397\n",
      "Epoch 33/100\n",
      "14/14 [==============================] - 0s 3ms/step - loss: 0.0483 - val_loss: 0.0425\n",
      "Epoch 34/100\n",
      "14/14 [==============================] - 0s 3ms/step - loss: 0.0502 - val_loss: 0.0389\n",
      "Epoch 35/100\n",
      "14/14 [==============================] - 0s 3ms/step - loss: 0.0476 - val_loss: 0.0435\n",
      "Epoch 36/100\n",
      "14/14 [==============================] - 0s 2ms/step - loss: 0.0496 - val_loss: 0.0389\n",
      "Epoch 37/100\n",
      "14/14 [==============================] - 0s 2ms/step - loss: 0.0489 - val_loss: 0.0441\n",
      "Epoch 38/100\n",
      "14/14 [==============================] - 0s 3ms/step - loss: 0.0480 - val_loss: 0.0381\n",
      "Epoch 39/100\n",
      "14/14 [==============================] - 0s 2ms/step - loss: 0.0518 - val_loss: 0.0339\n",
      "Epoch 40/100\n",
      "14/14 [==============================] - 0s 3ms/step - loss: 0.0456 - val_loss: 0.0466\n",
      "Epoch 41/100\n",
      "14/14 [==============================] - 0s 3ms/step - loss: 0.0501 - val_loss: 0.0485\n",
      "Epoch 42/100\n",
      "14/14 [==============================] - 0s 3ms/step - loss: 0.0511 - val_loss: 0.0384\n",
      "Epoch 43/100\n",
      "14/14 [==============================] - 0s 3ms/step - loss: 0.0482 - val_loss: 0.0397\n",
      "Epoch 44/100\n",
      "14/14 [==============================] - 0s 6ms/step - loss: 0.0507 - val_loss: 0.0370\n",
      "Epoch 45/100\n",
      "14/14 [==============================] - 0s 2ms/step - loss: 0.0547 - val_loss: 0.0510\n",
      "Epoch 46/100\n",
      "14/14 [==============================] - 0s 2ms/step - loss: 0.0461 - val_loss: 0.0407\n",
      "Epoch 47/100\n",
      "14/14 [==============================] - 0s 2ms/step - loss: 0.0487 - val_loss: 0.0355\n",
      "Epoch 48/100\n",
      "14/14 [==============================] - 0s 2ms/step - loss: 0.0472 - val_loss: 0.0459\n",
      "Epoch 49/100\n",
      "14/14 [==============================] - 0s 2ms/step - loss: 0.0476 - val_loss: 0.0461\n",
      "Epoch 50/100\n",
      "14/14 [==============================] - 0s 3ms/step - loss: 0.0463 - val_loss: 0.0417\n",
      "Epoch 51/100\n",
      "14/14 [==============================] - 0s 3ms/step - loss: 0.0470 - val_loss: 0.0362\n",
      "Epoch 52/100\n",
      "14/14 [==============================] - 0s 3ms/step - loss: 0.0481 - val_loss: 0.0429\n",
      "Epoch 53/100\n",
      "14/14 [==============================] - 0s 2ms/step - loss: 0.0497 - val_loss: 0.0341\n",
      "Epoch 54/100\n",
      "14/14 [==============================] - 0s 2ms/step - loss: 0.0501 - val_loss: 0.0494\n",
      "Epoch 55/100\n",
      "14/14 [==============================] - 0s 2ms/step - loss: 0.0455 - val_loss: 0.0435\n",
      "Epoch 56/100\n",
      "14/14 [==============================] - 0s 2ms/step - loss: 0.0474 - val_loss: 0.0422\n",
      "Epoch 57/100\n",
      "14/14 [==============================] - 0s 2ms/step - loss: 0.0466 - val_loss: 0.0380\n",
      "Epoch 58/100\n",
      "14/14 [==============================] - 0s 2ms/step - loss: 0.0467 - val_loss: 0.0397\n",
      "Epoch 59/100\n",
      "14/14 [==============================] - 0s 2ms/step - loss: 0.0475 - val_loss: 0.0394\n",
      "Epoch 60/100\n",
      "14/14 [==============================] - 0s 2ms/step - loss: 0.0449 - val_loss: 0.0433\n",
      "Epoch 61/100\n",
      "14/14 [==============================] - 0s 2ms/step - loss: 0.0463 - val_loss: 0.0440\n",
      "Epoch 62/100\n",
      "14/14 [==============================] - 0s 2ms/step - loss: 0.0470 - val_loss: 0.0389\n",
      "Epoch 63/100\n",
      "14/14 [==============================] - 0s 3ms/step - loss: 0.0456 - val_loss: 0.0414\n",
      "Epoch 64/100\n",
      "14/14 [==============================] - 0s 3ms/step - loss: 0.0484 - val_loss: 0.0426\n",
      "Epoch 65/100\n",
      "14/14 [==============================] - 0s 3ms/step - loss: 0.0465 - val_loss: 0.0385\n",
      "Epoch 66/100\n",
      "14/14 [==============================] - 0s 2ms/step - loss: 0.0479 - val_loss: 0.0457\n",
      "Epoch 67/100\n",
      "14/14 [==============================] - 0s 3ms/step - loss: 0.0459 - val_loss: 0.0413\n",
      "Epoch 68/100\n",
      "14/14 [==============================] - 0s 2ms/step - loss: 0.0472 - val_loss: 0.0414\n",
      "Epoch 69/100\n",
      "14/14 [==============================] - 0s 2ms/step - loss: 0.0453 - val_loss: 0.0447\n",
      "Epoch 70/100\n",
      "14/14 [==============================] - 0s 2ms/step - loss: 0.0461 - val_loss: 0.0432\n",
      "Epoch 71/100\n",
      "14/14 [==============================] - 0s 2ms/step - loss: 0.0470 - val_loss: 0.0398\n",
      "Epoch 72/100\n",
      "14/14 [==============================] - 0s 2ms/step - loss: 0.0491 - val_loss: 0.0349\n",
      "Epoch 73/100\n",
      "14/14 [==============================] - 0s 2ms/step - loss: 0.0446 - val_loss: 0.0500\n",
      "Epoch 74/100\n",
      "14/14 [==============================] - 0s 2ms/step - loss: 0.0470 - val_loss: 0.0496\n",
      "Epoch 75/100\n",
      "14/14 [==============================] - 0s 2ms/step - loss: 0.0445 - val_loss: 0.0421\n",
      "Epoch 76/100\n",
      "14/14 [==============================] - 0s 2ms/step - loss: 0.0446 - val_loss: 0.0420\n",
      "Epoch 77/100\n",
      "14/14 [==============================] - 0s 2ms/step - loss: 0.0451 - val_loss: 0.0401\n",
      "Epoch 78/100\n",
      "14/14 [==============================] - 0s 2ms/step - loss: 0.0491 - val_loss: 0.0478\n",
      "Epoch 79/100\n",
      "14/14 [==============================] - 0s 2ms/step - loss: 0.0459 - val_loss: 0.0398\n",
      "Epoch 80/100\n",
      "14/14 [==============================] - 0s 2ms/step - loss: 0.0461 - val_loss: 0.0461\n",
      "Epoch 81/100\n",
      "14/14 [==============================] - 0s 2ms/step - loss: 0.0443 - val_loss: 0.0406\n",
      "Epoch 82/100\n",
      "14/14 [==============================] - 0s 2ms/step - loss: 0.0450 - val_loss: 0.0415\n",
      "Epoch 83/100\n",
      "14/14 [==============================] - 0s 2ms/step - loss: 0.0454 - val_loss: 0.0416\n",
      "Epoch 84/100\n",
      "14/14 [==============================] - 0s 2ms/step - loss: 0.0438 - val_loss: 0.0417\n",
      "Epoch 85/100\n",
      "14/14 [==============================] - 0s 2ms/step - loss: 0.0447 - val_loss: 0.0434\n",
      "Epoch 86/100\n",
      "14/14 [==============================] - 0s 2ms/step - loss: 0.0451 - val_loss: 0.0434\n",
      "Epoch 87/100\n",
      "14/14 [==============================] - 0s 2ms/step - loss: 0.0447 - val_loss: 0.0407\n",
      "Epoch 88/100\n",
      "14/14 [==============================] - 0s 2ms/step - loss: 0.0438 - val_loss: 0.0393\n",
      "Epoch 89/100\n",
      "14/14 [==============================] - 0s 2ms/step - loss: 0.0451 - val_loss: 0.0398\n",
      "Epoch 90/100\n",
      "14/14 [==============================] - 0s 2ms/step - loss: 0.0481 - val_loss: 0.0470\n",
      "Epoch 91/100\n",
      "14/14 [==============================] - 0s 2ms/step - loss: 0.0452 - val_loss: 0.0386\n",
      "Epoch 92/100\n",
      "14/14 [==============================] - 0s 2ms/step - loss: 0.0434 - val_loss: 0.0416\n",
      "Epoch 93/100\n",
      "14/14 [==============================] - 0s 2ms/step - loss: 0.0448 - val_loss: 0.0410\n",
      "Epoch 94/100\n",
      "14/14 [==============================] - 0s 2ms/step - loss: 0.0470 - val_loss: 0.0491\n",
      "Epoch 95/100\n",
      "14/14 [==============================] - 0s 2ms/step - loss: 0.0439 - val_loss: 0.0395\n",
      "Epoch 96/100\n",
      "14/14 [==============================] - 0s 2ms/step - loss: 0.0484 - val_loss: 0.0486\n",
      "Epoch 97/100\n",
      "14/14 [==============================] - 0s 2ms/step - loss: 0.0434 - val_loss: 0.0372\n",
      "Epoch 98/100\n",
      "14/14 [==============================] - 0s 2ms/step - loss: 0.0458 - val_loss: 0.0431\n",
      "Epoch 99/100\n",
      "14/14 [==============================] - 0s 2ms/step - loss: 0.0430 - val_loss: 0.0418\n",
      "Epoch 100/100\n",
      "14/14 [==============================] - 0s 2ms/step - loss: 0.0461 - val_loss: 0.0395\n"
     ]
    }
   ],
   "source": [
    "history = model.fit(x_train, y_train, epochs=100, batch_size=10, validation_data=(x_test, y_test))"
   ]
  },
  {
   "cell_type": "markdown",
   "metadata": {},
   "source": [
    "### 4.2. descrição do modelo"
   ]
  },
  {
   "cell_type": "code",
   "execution_count": 56,
   "metadata": {},
   "outputs": [
    {
     "name": "stdout",
     "output_type": "stream",
     "text": [
      "Model: \"sequential_208\"\n",
      "_________________________________________________________________\n",
      " Layer (type)                Output Shape              Param #   \n",
      "=================================================================\n",
      " dense_658 (Dense)           (None, 64)                192       \n",
      "                                                                 \n",
      " dense_659 (Dense)           (None, 32)                2080      \n",
      "                                                                 \n",
      " dense_660 (Dense)           (None, 1)                 33        \n",
      "                                                                 \n",
      "=================================================================\n",
      "Total params: 2,305\n",
      "Trainable params: 2,305\n",
      "Non-trainable params: 0\n",
      "_________________________________________________________________\n"
     ]
    }
   ],
   "source": [
    "model.summary()"
   ]
  },
  {
   "cell_type": "markdown",
   "metadata": {},
   "source": [
    "### 4.3. Salvando o modelo"
   ]
  },
  {
   "cell_type": "code",
   "execution_count": 65,
   "metadata": {},
   "outputs": [],
   "source": [
    "model.save(\"python_model.h5\")"
   ]
  },
  {
   "cell_type": "markdown",
   "metadata": {},
   "source": [
    "### 4.4. Métricas do modelo"
   ]
  },
  {
   "cell_type": "code",
   "execution_count": 66,
   "metadata": {},
   "outputs": [
    {
     "name": "stdout",
     "output_type": "stream",
     "text": [
      "2/2 [==============================] - 0s 2ms/step\n",
      "MSE: 0.03951209299117136\n",
      "MAE: 0.12786850903349364\n",
      "R²: 0.9597456876795822\n"
     ]
    }
   ],
   "source": [
    "predictions = model.predict(x_test)\n",
    "\n",
    "mse = mean_squared_error(y_test, predictions)\n",
    "mae = mean_absolute_error(y_test, predictions)\n",
    "r2 = r2_score(y_test, predictions)\n",
    "\n",
    "print(\"MSE:\", mse)\n",
    "print(\"MAE:\", mae)\n",
    "print(\"R²:\", r2)"
   ]
  }
 ],
 "metadata": {
  "kernelspec": {
   "display_name": ".env",
   "language": "python",
   "name": "python3"
  },
  "language_info": {
   "codemirror_mode": {
    "name": "ipython",
    "version": 3
   },
   "file_extension": ".py",
   "mimetype": "text/x-python",
   "name": "python",
   "nbconvert_exporter": "python",
   "pygments_lexer": "ipython3",
   "version": "3.10.12"
  }
 },
 "nbformat": 4,
 "nbformat_minor": 2
}
